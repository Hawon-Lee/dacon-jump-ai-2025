{
 "cells": [
  {
   "cell_type": "code",
   "execution_count": 61,
   "metadata": {},
   "outputs": [],
   "source": [
    "import pandas as pd\n",
    "import numpy as np\n",
    "from rdkit import Chem\n",
    "from rdkit.Chem import AllChem\n",
    "from sklearn.model_selection import train_test_split\n",
    "from sklearn.ensemble import RandomForestRegressor\n",
    "from sklearn.metrics import mean_squared_error\n",
    "import os\n",
    "import random\n",
    "\n",
    "def IC50_to_pIC50(ic50_nM):\n",
    "    return 9 - np.log10(ic50_nM)\n",
    "\n",
    "def pIC50_to_IC50(pIC50):\n",
    "    return 10 ** (9 - pIC50)"
   ]
  },
  {
   "cell_type": "markdown",
   "metadata": {},
   "source": [
    "어차피 제출용 샘플에서는 SMILES만 주어지기 때문에, SMILES 활용하는 방법만 고민해야 한다."
   ]
  },
  {
   "cell_type": "code",
   "execution_count": 51,
   "metadata": {},
   "outputs": [
    {
     "name": "stderr",
     "output_type": "stream",
     "text": [
      "/tmp/ipykernel_1643393/3875020036.py:5: DtypeWarning: Columns (15) have mixed types. Specify dtype option on import or set low_memory=False.\n",
      "  pubchem = pd.read_csv(raw_data_path + \"Pubchem_ASK1.csv\")\n"
     ]
    }
   ],
   "source": [
    "raw_data_path = \"../data/250708_raw/\"\n",
    "\n",
    "cas = pd.read_excel(raw_data_path + \"CAS_KPBMA_MAP3K5_IC50s.xlsx\", sheet_name=\"MAP3K5 Ligand IC50s\", header=1)\n",
    "chembl = pd.read_csv(raw_data_path + \"ChEMBL_ASK1(IC50).csv\", sep=\";\")\n",
    "pubchem = pd.read_csv(raw_data_path + \"Pubchem_ASK1.csv\")"
   ]
  },
  {
   "cell_type": "code",
   "execution_count": 53,
   "metadata": {},
   "outputs": [],
   "source": [
    "chembl.columns = chembl.columns.str.strip().str.replace('\"', '')\n",
    "chembl = chembl[chembl['Standard Type'] == 'IC50']\n",
    "chembl = chembl[['Smiles', 'Standard Value']].rename(columns={'Smiles': 'smiles', 'Standard Value': 'ic50_nM'}).dropna()\n",
    "chembl['ic50_nM'] = pd.to_numeric(chembl['ic50_nM'], errors='coerce')\n",
    "chembl['pIC50'] = IC50_to_pIC50(chembl['ic50_nM'])"
   ]
  },
  {
   "cell_type": "code",
   "execution_count": 56,
   "metadata": {},
   "outputs": [
    {
     "data": {
      "text/plain": [
       "smiles     0\n",
       "ic50_nM    0\n",
       "pIC50      0\n",
       "dtype: int64"
      ]
     },
     "execution_count": 56,
     "metadata": {},
     "output_type": "execute_result"
    }
   ],
   "source": [
    "chembl[\"pIC50\"]"
   ]
  },
  {
   "cell_type": "code",
   "execution_count": 46,
   "metadata": {},
   "outputs": [
    {
     "data": {
      "text/plain": [
       "((3452, 17), (824, 48), (23795, 33))"
      ]
     },
     "execution_count": 46,
     "metadata": {},
     "output_type": "execute_result"
    }
   ],
   "source": [
    "cas.shape, chembl.shape, pubchem.shape"
   ]
  }
 ],
 "metadata": {
  "kernelspec": {
   "display_name": ".venv",
   "language": "python",
   "name": "python3"
  },
  "language_info": {
   "codemirror_mode": {
    "name": "ipython",
    "version": 3
   },
   "file_extension": ".py",
   "mimetype": "text/x-python",
   "name": "python",
   "nbconvert_exporter": "python",
   "pygments_lexer": "ipython3",
   "version": "3.10.12"
  }
 },
 "nbformat": 4,
 "nbformat_minor": 2
}
