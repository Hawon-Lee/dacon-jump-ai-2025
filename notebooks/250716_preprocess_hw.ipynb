{
 "cells": [
  {
   "cell_type": "markdown",
   "id": "ff054bff",
   "metadata": {},
   "source": [
    "### SMILES 로부터 descriptor 및 graph 특징 추출"
   ]
  },
  {
   "cell_type": "code",
   "execution_count": 3,
   "id": "c7a7fa98",
   "metadata": {},
   "outputs": [],
   "source": [
    "import sys\n",
    "import torch\n",
    "import pandas as pd\n",
    "from tqdm import tqdm\n",
    "from torch_geometric.data import Data, Batch\n",
    "\n",
    "sys.path.append(\"../src/\")\n",
    "from preprocess import get_descriptors_2d, get_descriptors_3d, get_ecfp"
   ]
  },
  {
   "cell_type": "code",
   "execution_count": 2,
   "id": "947870a4",
   "metadata": {},
   "outputs": [
    {
     "data": {
      "text/plain": [
       "Index(['smiles', 'ic50_nm', 'ic50_nm_imputed', 'is_active(10um)',\n",
       "       'data_source', 'data_id', 'pvalue', 'pvalue_imputed', 'rdmol',\n",
       "       'rdmol_confs5', 'medai_id'],\n",
       "      dtype='object')"
      ]
     },
     "execution_count": 2,
     "metadata": {},
     "output_type": "execute_result"
    }
   ],
   "source": [
    "df = pd.read_pickle(\"../data/250714_preprocessed_HW_V2.pkl\")\n",
    "df.columns"
   ]
  },
  {
   "cell_type": "code",
   "execution_count": 4,
   "id": "3993e892",
   "metadata": {},
   "outputs": [
    {
     "name": "stderr",
     "output_type": "stream",
     "text": [
      "100%|██████████| 25753/25753 [04:52<00:00, 88.06it/s] \n"
     ]
    }
   ],
   "source": [
    "save2dir = \"../data/250716_preprocess_hw\"\n",
    "\n",
    "# 컬럼 인덱스 계산\n",
    "smiles_idx = df.columns.get_loc('smiles')\n",
    "pvalue_idx = df.columns.get_loc('pvalue')\n",
    "pvalue_imputed_idx = df.columns.get_loc('pvalue_imputed')\n",
    "rdmol_idx = df.columns.get_loc('rdmol_confs5')\n",
    "mol_id_idx = df.columns.get_loc('medai_id')\n",
    "is_active_idx = df.columns.get_loc('is_active(10um)')\n",
    "\n",
    "for i in tqdm(range(df.shape[0])):\n",
    "    smiles = df.iloc[i, smiles_idx]\n",
    "    pvalue = df.iloc[i, pvalue_idx]\n",
    "    pvalue_imputed = df.iloc[i, pvalue_imputed_idx]\n",
    "    rd_mol = df.iloc[i, rdmol_idx]\n",
    "    mol_id = df.iloc[i, mol_id_idx]\n",
    "    is_active = df.iloc[i, is_active_idx]\n",
    "    \n",
    "    # Feature 계산\n",
    "    desc_2d = get_descriptors_2d(rd_mol)\n",
    "    desc_3d = get_descriptors_3d(rd_mol)\n",
    "    ecfp = get_ecfp(rd_mol, radius=2, fpSize=2048)\n",
    "    \n",
    "    # pyg Data 객체 형태로 만들기\n",
    "    data = Data()\n",
    "    data.desc_2d = desc_2d\n",
    "    data.desc_3d = desc_3d\n",
    "    data.ecfp = ecfp\n",
    "    \n",
    "    # Graph feature 추가\n",
    "    \n",
    "    # 저장\n",
    "    torch.save(data, f\"{save2dir}/{mol_id}.pt\")"
   ]
  }
 ],
 "metadata": {
  "kernelspec": {
   "display_name": ".venv",
   "language": "python",
   "name": "python3"
  },
  "language_info": {
   "codemirror_mode": {
    "name": "ipython",
    "version": 3
   },
   "file_extension": ".py",
   "mimetype": "text/x-python",
   "name": "python",
   "nbconvert_exporter": "python",
   "pygments_lexer": "ipython3",
   "version": "3.10.12"
  }
 },
 "nbformat": 4,
 "nbformat_minor": 5
}
